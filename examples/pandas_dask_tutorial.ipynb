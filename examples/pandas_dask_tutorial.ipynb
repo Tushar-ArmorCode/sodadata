{
 "cells": [
  {
   "cell_type": "markdown",
   "metadata": {},
   "source": [
    "# Pandas and Dask Tutorial"
   ]
  },
  {
   "attachments": {},
   "cell_type": "markdown",
   "metadata": {},
   "source": [
    "## Importing the libraries"
   ]
  },
  {
   "cell_type": "code",
   "execution_count": 10,
   "metadata": {},
   "outputs": [],
   "source": [
    "import dask.datasets\n",
    "import pandas as pd\n",
    "from soda.scan import Scan"
   ]
  },
  {
   "cell_type": "markdown",
   "metadata": {},
   "source": [
    "## Create Artifical Pandas and Dask Dataframes"
   ]
  },
  {
   "cell_type": "code",
   "execution_count": 11,
   "metadata": {},
   "outputs": [
    {
     "data": {
      "text/html": [
       "<div>\n",
       "<style scoped>\n",
       "    .dataframe tbody tr th:only-of-type {\n",
       "        vertical-align: middle;\n",
       "    }\n",
       "\n",
       "    .dataframe tbody tr th {\n",
       "        vertical-align: top;\n",
       "    }\n",
       "\n",
       "    .dataframe thead th {\n",
       "        text-align: right;\n",
       "    }\n",
       "</style>\n",
       "<table border=\"1\" class=\"dataframe\">\n",
       "  <thead>\n",
       "    <tr style=\"text-align: right;\">\n",
       "      <th></th>\n",
       "      <th>timestamp</th>\n",
       "      <th>name</th>\n",
       "      <th>id</th>\n",
       "      <th>x</th>\n",
       "      <th>y</th>\n",
       "      <th>email</th>\n",
       "    </tr>\n",
       "  </thead>\n",
       "  <tbody>\n",
       "    <tr>\n",
       "      <th>0</th>\n",
       "      <td>2000-01-01 00:00:00</td>\n",
       "      <td>Alice</td>\n",
       "      <td>982</td>\n",
       "      <td>-0.220556</td>\n",
       "      <td>0.880148</td>\n",
       "      <td>a@soda.io</td>\n",
       "    </tr>\n",
       "    <tr>\n",
       "      <th>1</th>\n",
       "      <td>2000-01-01 00:00:01</td>\n",
       "      <td>Edith</td>\n",
       "      <td>1015</td>\n",
       "      <td>0.190462</td>\n",
       "      <td>0.784481</td>\n",
       "      <td>a@soda.io</td>\n",
       "    </tr>\n",
       "    <tr>\n",
       "      <th>2</th>\n",
       "      <td>2000-01-01 00:00:02</td>\n",
       "      <td>Oliver</td>\n",
       "      <td>977</td>\n",
       "      <td>0.176636</td>\n",
       "      <td>-0.738644</td>\n",
       "      <td>a@soda.io</td>\n",
       "    </tr>\n",
       "    <tr>\n",
       "      <th>3</th>\n",
       "      <td>2000-01-01 00:00:03</td>\n",
       "      <td>Yvonne</td>\n",
       "      <td>988</td>\n",
       "      <td>-0.192201</td>\n",
       "      <td>-0.959786</td>\n",
       "      <td>a@soda.io</td>\n",
       "    </tr>\n",
       "    <tr>\n",
       "      <th>4</th>\n",
       "      <td>2000-01-01 00:00:04</td>\n",
       "      <td>Zelda</td>\n",
       "      <td>1083</td>\n",
       "      <td>0.390133</td>\n",
       "      <td>-0.873293</td>\n",
       "      <td>a@soda.io</td>\n",
       "    </tr>\n",
       "  </tbody>\n",
       "</table>\n",
       "</div>"
      ],
      "text/plain": [
       "            timestamp    name    id         x         y      email\n",
       "0 2000-01-01 00:00:00   Alice   982 -0.220556  0.880148  a@soda.io\n",
       "1 2000-01-01 00:00:01   Edith  1015  0.190462  0.784481  a@soda.io\n",
       "2 2000-01-01 00:00:02  Oliver   977  0.176636 -0.738644  a@soda.io\n",
       "3 2000-01-01 00:00:03  Yvonne   988 -0.192201 -0.959786  a@soda.io\n",
       "4 2000-01-01 00:00:04   Zelda  1083  0.390133 -0.873293  a@soda.io"
      ]
     },
     "execution_count": 11,
     "metadata": {},
     "output_type": "execute_result"
    }
   ],
   "source": [
    "# Load timeseries data from dask datasets\n",
    "df_timeseries = dask.datasets.timeseries().reset_index()\n",
    "df_timeseries[\"email\"] = \"a@soda.io\"\n",
    "\n",
    "df_timeseries.head()"
   ]
  },
  {
   "cell_type": "code",
   "execution_count": 12,
   "metadata": {},
   "outputs": [
    {
     "data": {
      "text/html": [
       "<div>\n",
       "<style scoped>\n",
       "    .dataframe tbody tr th:only-of-type {\n",
       "        vertical-align: middle;\n",
       "    }\n",
       "\n",
       "    .dataframe tbody tr th {\n",
       "        vertical-align: top;\n",
       "    }\n",
       "\n",
       "    .dataframe thead th {\n",
       "        text-align: right;\n",
       "    }\n",
       "</style>\n",
       "<table border=\"1\" class=\"dataframe\">\n",
       "  <thead>\n",
       "    <tr style=\"text-align: right;\">\n",
       "      <th></th>\n",
       "      <th>name</th>\n",
       "      <th>email</th>\n",
       "    </tr>\n",
       "  </thead>\n",
       "  <tbody>\n",
       "    <tr>\n",
       "      <th>0</th>\n",
       "      <td>Bastien</td>\n",
       "      <td>a@soda.io</td>\n",
       "    </tr>\n",
       "    <tr>\n",
       "      <th>1</th>\n",
       "      <td>Titus</td>\n",
       "      <td>b@soda.io</td>\n",
       "    </tr>\n",
       "    <tr>\n",
       "      <th>2</th>\n",
       "      <td>Baturay</td>\n",
       "      <td>c@soda.io</td>\n",
       "    </tr>\n",
       "  </tbody>\n",
       "</table>\n",
       "</div>"
      ],
      "text/plain": [
       "      name      email\n",
       "0  Bastien  a@soda.io\n",
       "1    Titus  b@soda.io\n",
       "2  Baturay  c@soda.io"
      ]
     },
     "execution_count": 12,
     "metadata": {},
     "output_type": "execute_result"
    }
   ],
   "source": [
    "# Create an artificial pandas dataframe\n",
    "df_employee = pd.DataFrame(\n",
    "    {\n",
    "        \"name\": [\"Bastien\", \"Titus\", \"Baturay\"],\n",
    "        \"email\": [\"a@soda.io\", \"b@soda.io\", \"c@soda.io\"],\n",
    "    }\n",
    ")\n",
    "\n",
    "df_employee.head()"
   ]
  },
  {
   "cell_type": "markdown",
   "metadata": {},
   "source": [
    "## Create a soda scan object"
   ]
  },
  {
   "cell_type": "code",
   "execution_count": 13,
   "metadata": {},
   "outputs": [
    {
     "name": "stderr",
     "output_type": "stream",
     "text": [
      "INFO:soda.scan:[18:02:18] Soda Core 3.0.21\n"
     ]
    }
   ],
   "source": [
    "scan = Scan()\n",
    "scan.set_scan_definition_name(\"dask and pandas tutorial\")\n",
    "scan.set_data_source_name(\"dask\")"
   ]
  },
  {
   "attachments": {},
   "cell_type": "markdown",
   "metadata": {},
   "source": [
    "### Add dataframes to the soda scan object"
   ]
  },
  {
   "cell_type": "code",
   "execution_count": 14,
   "metadata": {},
   "outputs": [],
   "source": [
    "# Add dask dataframe to scan and assign a dataset name to refer from checks yaml\n",
    "scan.add_dask_dataframe(dataset_name=\"timeseries\", dask_df=df_timeseries)\n",
    "\n",
    "# Add pandas dataframe to scan and assign a dataset name to refer from checks yaml\n",
    "scan.add_pandas_dataframe(dataset_name=\"employee\", pandas_df=df_employee)"
   ]
  },
  {
   "cell_type": "markdown",
   "metadata": {},
   "source": [
    "### Define checks in yaml format"
   ]
  },
  {
   "attachments": {},
   "cell_type": "markdown",
   "metadata": {},
   "source": [
    "In the first example, we will check row counts of the two dataframes."
   ]
  },
  {
   "cell_type": "code",
   "execution_count": 15,
   "metadata": {},
   "outputs": [
    {
     "name": "stderr",
     "output_type": "stream",
     "text": [
      "INFO:soda.scan:Instantiating for each for ['timeseries', 'employee']\n",
      "INFO:soda.scan:[18:02:19] Scan summary:\n",
      "INFO:soda.scan:[18:02:19] 2/2 checks PASSED: \n",
      "INFO:soda.scan:[18:02:19]     timeseries in dask\n",
      "INFO:soda.scan:[18:02:19]       row_count > 0 [PASSED]\n",
      "INFO:soda.scan:[18:02:19]     employee in dask\n",
      "INFO:soda.scan:[18:02:19]       row_count > 0 [PASSED]\n",
      "INFO:soda.scan:[18:02:19] All is good. No failures. No warnings. No errors.\n"
     ]
    },
    {
     "data": {
      "text/plain": [
       "0"
      ]
     },
     "execution_count": 15,
     "metadata": {},
     "output_type": "execute_result"
    }
   ],
   "source": [
    "# Define checks in yaml format\n",
    "# alternatively you can refer to a yaml file using scan.add_sodacl_yaml_file(<filepath>)\n",
    "row_count_checks = \"\"\"\n",
    "for each dataset T:\n",
    "  datasets:\n",
    "    - include %\n",
    "  checks:\n",
    "    - row_count > 0\n",
    "\"\"\"\n",
    "scan.add_sodacl_yaml_str(row_count_checks)\n",
    "scan.execute()"
   ]
  },
  {
   "attachments": {},
   "cell_type": "markdown",
   "metadata": {},
   "source": [
    "Now, we will apply a cross check between pandas and dask dataframes. We will check if the values of `employee.email` exist in `timeseries.email` dataframe. It is expected that the check will fail because `b@soda.io` and `c@soda.io` are not present in `timeseries.email` dataframe."
   ]
  },
  {
   "cell_type": "code",
   "execution_count": 16,
   "metadata": {},
   "outputs": [
    {
     "name": "stderr",
     "output_type": "stream",
     "text": [
      "INFO:soda.scan:Instantiating for each for ['timeseries', 'employee', 'showtables']\n",
      "INFO:soda.scan:[18:02:22] Using DefaultSampler\n",
      "INFO:soda.scan:[18:02:22] Scan summary:\n",
      "INFO:soda.scan:[18:02:22] 7/9 checks PASSED: \n",
      "INFO:soda.scan:[18:02:22]     timeseries in dask\n",
      "INFO:soda.scan:[18:02:22]       row_count > 0 [PASSED]\n",
      "INFO:soda.scan:[18:02:22]       row_count > 0 [PASSED]\n",
      "INFO:soda.scan:[18:02:22]       row_count > 0 [PASSED]\n",
      "INFO:soda.scan:[18:02:22]     employee in dask\n",
      "INFO:soda.scan:[18:02:22]       row_count > 0 [PASSED]\n",
      "INFO:soda.scan:[18:02:22]       row_count > 0 [PASSED]\n",
      "INFO:soda.scan:[18:02:22]       row_count > 0 [PASSED]\n",
      "INFO:soda.scan:[18:02:22]     showtables in dask\n",
      "INFO:soda.scan:[18:02:22]       row_count > 0 [PASSED]\n",
      "INFO:soda.scan:[18:02:22] 2/9 checks FAILED: \n",
      "INFO:soda.scan:[18:02:22]     employee in dask\n",
      "INFO:soda.scan:[18:02:22]       values in (email) must exist in timeseries (email) [FAILED]\n",
      "INFO:soda.scan:[18:02:22]         value: 2\n",
      "INFO:soda.scan:[18:02:22]       row_count same as timeseries [FAILED]\n",
      "INFO:soda.scan:[18:02:22]         value: -2591997\n",
      "INFO:soda.scan:[18:02:22]         rowCount: 3\n",
      "INFO:soda.scan:[18:02:22]         otherRowCount: 2592000\n",
      "INFO:soda.scan:[18:02:22] Oops! 2 failures. 0 warnings. 0 errors. 7 pass.\n"
     ]
    },
    {
     "data": {
      "text/plain": [
       "2"
      ]
     },
     "execution_count": 16,
     "metadata": {},
     "output_type": "execute_result"
    }
   ],
   "source": [
    "cross_table_checks = \"\"\"\n",
    "checks for employee:\n",
    "    - values in (email) must exist in timeseries (email) # Error expected\n",
    "    - row_count same as timeseries # Error expected\n",
    "\"\"\"\n",
    "scan.add_sodacl_yaml_str(cross_table_checks)\n",
    "scan.execute()"
   ]
  },
  {
   "cell_type": "markdown",
   "metadata": {},
   "source": [
    "Add some custom checks for timeseries data"
   ]
  },
  {
   "cell_type": "code",
   "execution_count": 17,
   "metadata": {},
   "outputs": [
    {
     "name": "stderr",
     "output_type": "stream",
     "text": [
      "INFO:soda.scan:Instantiating for each for ['timeseries', 'employee', 'showtables']\n",
      "INFO:soda.scan:[18:02:46] Using DefaultSampler\n",
      "INFO:soda.scan:[18:02:48] Using DefaultSampler\n",
      "INFO:soda.scan:[18:02:50] Using DefaultSampler\n",
      "INFO:soda.scan:[18:02:50] Scan summary:\n",
      "INFO:soda.scan:[18:02:50] 23/30 checks PASSED: \n",
      "INFO:soda.scan:[18:02:50]     timeseries in dask\n",
      "INFO:soda.scan:[18:02:50]       row_count > 0 [PASSED]\n",
      "INFO:soda.scan:[18:02:50]       row_count > 0 [PASSED]\n",
      "INFO:soda.scan:[18:02:50]       row_count > 0 [PASSED]\n",
      "INFO:soda.scan:[18:02:50]       row_count > 0 [PASSED]\n",
      "INFO:soda.scan:[18:02:50]       row_count > 0 [PASSED]\n",
      "INFO:soda.scan:[18:02:50]       values in (email) must exist in employee (email) [PASSED]\n",
      "INFO:soda.scan:[18:02:50]       row_count > 0 [PASSED]\n",
      "INFO:soda.scan:[18:02:50]       invalid_count(email) = 0 [PASSED]\n",
      "INFO:soda.scan:[18:02:50]       valid_count(email) > 0 [PASSED]\n",
      "INFO:soda.scan:[18:02:50]       missing_count(y) = 0 [PASSED]\n",
      "INFO:soda.scan:[18:02:50]       missing_percent(x) < 5% [PASSED]\n",
      "INFO:soda.scan:[18:02:50]       avg(x) between -1 and 1 [PASSED]\n",
      "INFO:soda.scan:[18:02:50]       max(x) > 0 [PASSED]\n",
      "INFO:soda.scan:[18:02:50]       min(x) < 1 [PASSED]\n",
      "INFO:soda.scan:[18:02:50]     employee in dask\n",
      "INFO:soda.scan:[18:02:50]       row_count > 0 [PASSED]\n",
      "INFO:soda.scan:[18:02:50]       row_count > 0 [PASSED]\n",
      "INFO:soda.scan:[18:02:50]       row_count > 0 [PASSED]\n",
      "INFO:soda.scan:[18:02:50]       row_count > 0 [PASSED]\n",
      "INFO:soda.scan:[18:02:50]       row_count > 0 [PASSED]\n",
      "INFO:soda.scan:[18:02:50]       row_count > 0 [PASSED]\n",
      "INFO:soda.scan:[18:02:50]     showtables in dask\n",
      "INFO:soda.scan:[18:02:50]       row_count > 0 [PASSED]\n",
      "INFO:soda.scan:[18:02:50]       row_count > 0 [PASSED]\n",
      "INFO:soda.scan:[18:02:50]       row_count > 0 [PASSED]\n",
      "INFO:soda.scan:[18:02:50] 1/30 checks WARNED: \n",
      "INFO:soda.scan:[18:02:50]     timeseries in dask\n",
      "INFO:soda.scan:[18:02:50]       missing_count(y) warn when > -1 [WARNED]\n",
      "INFO:soda.scan:[18:02:50]         check_value: 0\n",
      "INFO:soda.scan:[18:02:50] 6/30 checks FAILED: \n",
      "INFO:soda.scan:[18:02:50]     employee in dask\n",
      "INFO:soda.scan:[18:02:50]       values in (email) must exist in timeseries (email) [FAILED]\n",
      "INFO:soda.scan:[18:02:50]         value: 2\n",
      "INFO:soda.scan:[18:02:50]       row_count same as timeseries [FAILED]\n",
      "INFO:soda.scan:[18:02:50]         value: -2591997\n",
      "INFO:soda.scan:[18:02:50]         rowCount: 3\n",
      "INFO:soda.scan:[18:02:50]         otherRowCount: 2592000\n",
      "INFO:soda.scan:[18:02:50]       values in (email) must exist in timeseries (email) [FAILED]\n",
      "INFO:soda.scan:[18:02:50]         value: 2\n",
      "INFO:soda.scan:[18:02:50]       row_count same as timeseries [FAILED]\n",
      "INFO:soda.scan:[18:02:50]         value: -2591997\n",
      "INFO:soda.scan:[18:02:50]         rowCount: 3\n",
      "INFO:soda.scan:[18:02:50]         otherRowCount: 2592000\n",
      "INFO:soda.scan:[18:02:50]     timeseries in dask\n",
      "INFO:soda.scan:[18:02:50]       duplicate_count(name) < 4 [FAILED]\n",
      "INFO:soda.scan:[18:02:50]         check_value: 26\n",
      "INFO:soda.scan:[18:02:50]       freshness(timestamp) < 1d [FAILED]\n",
      "INFO:soda.scan:[18:02:50]         max_column_timestamp: 2000-01-30 23:59:59\n",
      "INFO:soda.scan:[18:02:50]         max_column_timestamp_utc: 2000-01-30 23:59:59+00:00\n",
      "INFO:soda.scan:[18:02:50]         now_variable_name: NOW\n",
      "INFO:soda.scan:[18:02:50]         now_timestamp: 2023-01-23T17:02:18.388164+00:00\n",
      "INFO:soda.scan:[18:02:50]         now_timestamp_utc: 2023-01-23 17:02:18.388164+00:00\n",
      "INFO:soda.scan:[18:02:50]         freshness: 8393 days, 17:02:19.388164\n",
      "INFO:soda.scan:[18:02:50] Oops! 6 failure. 1 warning. 0 errors. 23 pass.\n"
     ]
    },
    {
     "data": {
      "text/plain": [
       "2"
      ]
     },
     "execution_count": 17,
     "metadata": {},
     "output_type": "execute_result"
    }
   ],
   "source": [
    "timeseries_checks = \"\"\"\n",
    "checks for timeseries:\n",
    "  - invalid_count(email) = 0:\n",
    "      valid format: email\n",
    "  - valid_count(email) > 0:\n",
    "      valid format: email\n",
    "  - duplicate_count(name) < 4:\n",
    "      samples limit: 2\n",
    "  - missing_count(y):\n",
    "      warn: when > -1\n",
    "  - missing_percent(x) < 5%\n",
    "  - missing_count(y) = 0\n",
    "  - avg(x) between -1 and 1\n",
    "  - max(x) > 0\n",
    "  - min(x) < 1:\n",
    "      filter: x > 0.2\n",
    "  - freshness(timestamp) < 1d\n",
    "  - values in (email) must exist in employee (email)\n",
    "\"\"\"\n",
    "scan.add_sodacl_yaml_str(timeseries_checks)\n",
    "scan.execute()"
   ]
  }
 ],
 "metadata": {
  "kernelspec": {
   "display_name": ".venv",
   "language": "python",
   "name": "python3"
  },
  "language_info": {
   "codemirror_mode": {
    "name": "ipython",
    "version": 3
   },
   "file_extension": ".py",
   "mimetype": "text/x-python",
   "name": "python",
   "nbconvert_exporter": "python",
   "pygments_lexer": "ipython3",
   "version": "3.9.10 (v3.9.10:f2f3f53782, Jan 13 2022, 17:02:14) \n[Clang 6.0 (clang-600.0.57)]"
  },
  "orig_nbformat": 4,
  "vscode": {
   "interpreter": {
    "hash": "fe7e78ee510bd5cd63cfcd97fd749c15efa3286469d966e90f0f6c3eeb85a4f8"
   }
  }
 },
 "nbformat": 4,
 "nbformat_minor": 2
}
